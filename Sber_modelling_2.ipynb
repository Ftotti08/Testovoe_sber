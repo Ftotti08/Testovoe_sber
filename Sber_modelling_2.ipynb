{
 "cells": [
  {
   "cell_type": "code",
   "execution_count": 1,
   "id": "fec20252-7b30-483a-baea-a263b1634caf",
   "metadata": {},
   "outputs": [],
   "source": [
    "import pandas as pd\n",
    "import numpy as np\n",
    "from sklearn.datasets import make_blobs\n",
    "from sklearn.preprocessing import StandardScaler\n",
    "from sklearn. model_selection import train_test_split\n",
    "from sklearn. linear_model import LogisticRegression\n",
    "from sklearn. linear_model import LinearRegression\n",
    "from sklearn.datasets import make_regression\n",
    "from sklearn.ensemble import BaggingRegressor\n",
    "from sklearn.metrics import mean_squared_error\n",
    "from sklearn.metrics import r2_score\n",
    "from sklearn.metrics import matthews_corrcoef\n",
    "from sklearn.feature_selection import r_regression\n",
    "from statsmodels.stats.outliers_influence import variance_inflation_factor\n",
    "import seaborn as sns\n",
    "import matplotlib.pyplot as plt"
   ]
  },
  {
   "cell_type": "code",
   "execution_count": 42,
   "id": "b05763e3-95e1-48bd-87da-804f16ff2b53",
   "metadata": {},
   "outputs": [],
   "source": [
    "# Генерируем датасет\n",
    "df, df_1 = make_regression(n_samples=1000, n_features=10)\n",
    "df = pd.DataFrame(df)\n",
    "coefficients = np.random.randn(10)\n",
    "coefficients[coefficients < 0] = 0"
   ]
  },
  {
   "cell_type": "code",
   "execution_count": 44,
   "id": "cc9b38cd-2c0a-4a1f-ba03-4a6e11325dfb",
   "metadata": {},
   "outputs": [],
   "source": [
    "# Вручную задаем целевую переменную\n",
    "df_1 = np.dot(df, coefficients)\n",
    "df_1 += 5 * np.random.normal(size=(1000))"
   ]
  },
  {
   "cell_type": "code",
   "execution_count": 50,
   "id": "8e008b0d-4a80-425c-b0c8-20b1c19f098a",
   "metadata": {},
   "outputs": [],
   "source": [
    "# Делим на тренировочную и тестовую выборки\n",
    "X = df\n",
    "y = df_1\n",
    "X_train,X_test,y_train,y_test = train_test_split (X,y,test_size=0.2,random_state=0) "
   ]
  },
  {
   "cell_type": "code",
   "execution_count": 9,
   "id": "64330921-c7a8-413b-a581-4961289f94aa",
   "metadata": {},
   "outputs": [],
   "source": [
    "# Строим модель с помощью бэггинга\n",
    "lin_reg = LinearRegression()\n",
    "reg = BaggingRegressor(estimator=lin_reg).fit(X_train, y_train)\n",
    "y_pred = reg.predict(X_test)"
   ]
  },
  {
   "cell_type": "code",
   "execution_count": 10,
   "id": "284bed44-8849-4ada-92e5-4a4a8038e2c4",
   "metadata": {},
   "outputs": [
    {
     "data": {
      "text/plain": [
       "20.602446330789004"
      ]
     },
     "execution_count": 10,
     "metadata": {},
     "output_type": "execute_result"
    }
   ],
   "source": [
    "# Оцениваем среднюю квадратическую ошибку MSE\n",
    "mean_squared_error(y_test, y_pred)"
   ]
  },
  {
   "cell_type": "code",
   "execution_count": 11,
   "id": "bc5c0305-3290-4e9c-a6fc-d56a931b2dab",
   "metadata": {},
   "outputs": [
    {
     "data": {
      "text/plain": [
       "0.3162613989399232"
      ]
     },
     "execution_count": 11,
     "metadata": {},
     "output_type": "execute_result"
    }
   ],
   "source": [
    "# Оцениваем R^2\n",
    "r2_score(y_test, y_pred)"
   ]
  },
  {
   "cell_type": "code",
   "execution_count": 23,
   "id": "24a2215b-e665-4b7d-918b-9f2ba61a3c3d",
   "metadata": {},
   "outputs": [
    {
     "data": {
      "text/html": [
       "<div>\n",
       "<style scoped>\n",
       "    .dataframe tbody tr th:only-of-type {\n",
       "        vertical-align: middle;\n",
       "    }\n",
       "\n",
       "    .dataframe tbody tr th {\n",
       "        vertical-align: top;\n",
       "    }\n",
       "\n",
       "    .dataframe thead th {\n",
       "        text-align: right;\n",
       "    }\n",
       "</style>\n",
       "<table border=\"1\" class=\"dataframe\">\n",
       "  <thead>\n",
       "    <tr style=\"text-align: right;\">\n",
       "      <th></th>\n",
       "      <th>feature</th>\n",
       "      <th>Pearson's R</th>\n",
       "    </tr>\n",
       "  </thead>\n",
       "  <tbody>\n",
       "    <tr>\n",
       "      <th>0</th>\n",
       "      <td>0</td>\n",
       "      <td>0.135326</td>\n",
       "    </tr>\n",
       "    <tr>\n",
       "      <th>1</th>\n",
       "      <td>1</td>\n",
       "      <td>-0.012890</td>\n",
       "    </tr>\n",
       "    <tr>\n",
       "      <th>2</th>\n",
       "      <td>2</td>\n",
       "      <td>0.123167</td>\n",
       "    </tr>\n",
       "    <tr>\n",
       "      <th>3</th>\n",
       "      <td>3</td>\n",
       "      <td>0.262443</td>\n",
       "    </tr>\n",
       "    <tr>\n",
       "      <th>4</th>\n",
       "      <td>4</td>\n",
       "      <td>-0.011652</td>\n",
       "    </tr>\n",
       "    <tr>\n",
       "      <th>5</th>\n",
       "      <td>5</td>\n",
       "      <td>0.042683</td>\n",
       "    </tr>\n",
       "    <tr>\n",
       "      <th>6</th>\n",
       "      <td>6</td>\n",
       "      <td>0.413191</td>\n",
       "    </tr>\n",
       "    <tr>\n",
       "      <th>7</th>\n",
       "      <td>7</td>\n",
       "      <td>0.148695</td>\n",
       "    </tr>\n",
       "    <tr>\n",
       "      <th>8</th>\n",
       "      <td>8</td>\n",
       "      <td>0.037737</td>\n",
       "    </tr>\n",
       "    <tr>\n",
       "      <th>9</th>\n",
       "      <td>9</td>\n",
       "      <td>0.003294</td>\n",
       "    </tr>\n",
       "  </tbody>\n",
       "</table>\n",
       "</div>"
      ],
      "text/plain": [
       "   feature  Pearson's R\n",
       "0        0     0.135326\n",
       "1        1    -0.012890\n",
       "2        2     0.123167\n",
       "3        3     0.262443\n",
       "4        4    -0.011652\n",
       "5        5     0.042683\n",
       "6        6     0.413191\n",
       "7        7     0.148695\n",
       "8        8     0.037737\n",
       "9        9     0.003294"
      ]
     },
     "execution_count": 23,
     "metadata": {},
     "output_type": "execute_result"
    }
   ],
   "source": [
    "# Проверяем мультиколлинеарность признаков с помощью коэффициента корреляции\n",
    "multicorr = pd.DataFrame(r_regression(X, y))\\\n",
    "                .reset_index()\\\n",
    "                .rename(columns={'index':'feature',0:\"Pearson's R\"})\n",
    "multicorr"
   ]
  },
  {
   "cell_type": "code",
   "execution_count": 24,
   "id": "cea77ad2-9e93-4967-afac-1dff3f2deb9c",
   "metadata": {},
   "outputs": [
    {
     "data": {
      "text/html": [
       "<div>\n",
       "<style scoped>\n",
       "    .dataframe tbody tr th:only-of-type {\n",
       "        vertical-align: middle;\n",
       "    }\n",
       "\n",
       "    .dataframe tbody tr th {\n",
       "        vertical-align: top;\n",
       "    }\n",
       "\n",
       "    .dataframe thead th {\n",
       "        text-align: right;\n",
       "    }\n",
       "</style>\n",
       "<table border=\"1\" class=\"dataframe\">\n",
       "  <thead>\n",
       "    <tr style=\"text-align: right;\">\n",
       "      <th></th>\n",
       "      <th>feature</th>\n",
       "      <th>VIF</th>\n",
       "    </tr>\n",
       "  </thead>\n",
       "  <tbody>\n",
       "    <tr>\n",
       "      <th>0</th>\n",
       "      <td>0</td>\n",
       "      <td>1.008959</td>\n",
       "    </tr>\n",
       "    <tr>\n",
       "      <th>1</th>\n",
       "      <td>1</td>\n",
       "      <td>1.012759</td>\n",
       "    </tr>\n",
       "    <tr>\n",
       "      <th>2</th>\n",
       "      <td>2</td>\n",
       "      <td>1.009208</td>\n",
       "    </tr>\n",
       "    <tr>\n",
       "      <th>3</th>\n",
       "      <td>3</td>\n",
       "      <td>1.005431</td>\n",
       "    </tr>\n",
       "    <tr>\n",
       "      <th>4</th>\n",
       "      <td>4</td>\n",
       "      <td>1.014675</td>\n",
       "    </tr>\n",
       "    <tr>\n",
       "      <th>5</th>\n",
       "      <td>5</td>\n",
       "      <td>1.012076</td>\n",
       "    </tr>\n",
       "    <tr>\n",
       "      <th>6</th>\n",
       "      <td>6</td>\n",
       "      <td>1.008263</td>\n",
       "    </tr>\n",
       "    <tr>\n",
       "      <th>7</th>\n",
       "      <td>7</td>\n",
       "      <td>1.006753</td>\n",
       "    </tr>\n",
       "    <tr>\n",
       "      <th>8</th>\n",
       "      <td>8</td>\n",
       "      <td>1.018805</td>\n",
       "    </tr>\n",
       "    <tr>\n",
       "      <th>9</th>\n",
       "      <td>9</td>\n",
       "      <td>1.006770</td>\n",
       "    </tr>\n",
       "  </tbody>\n",
       "</table>\n",
       "</div>"
      ],
      "text/plain": [
       "   feature       VIF\n",
       "0        0  1.008959\n",
       "1        1  1.012759\n",
       "2        2  1.009208\n",
       "3        3  1.005431\n",
       "4        4  1.014675\n",
       "5        5  1.012076\n",
       "6        6  1.008263\n",
       "7        7  1.006753\n",
       "8        8  1.018805\n",
       "9        9  1.006770"
      ]
     },
     "execution_count": 24,
     "metadata": {},
     "output_type": "execute_result"
    }
   ],
   "source": [
    "# Выводим VIF для каждого признака\n",
    "VIF = pd.DataFrame()\n",
    "VIF['feature'] = X.columns\n",
    "VIF['VIF'] = [variance_inflation_factor(X.values, i) for i in range(X.shape[1])]\n",
    "VIF"
   ]
  },
  {
   "cell_type": "code",
   "execution_count": 25,
   "id": "b8655ac0-4441-4e05-8fda-06bd4081feae",
   "metadata": {},
   "outputs": [
    {
     "data": {
      "text/plain": [
       "<Axes: title={'center': 'The title'}, xlabel='Предсказанные значения', ylabel='Остатки'>"
      ]
     },
     "execution_count": 25,
     "metadata": {},
     "output_type": "execute_result"
    },
    {
     "data": {
      "image/png": "[encoded data removed]",
      "text/plain": [
       "<Figure size 640x480 with 1 Axes>"
      ]
     },
     "metadata": {},
     "output_type": "display_data"
    }
   ],
   "source": [
    "# Считаем остатки и строим график остатков\n",
    "residual = y_test - y_pred\n",
    "sns.scatterplot(x=y_pred, y=residual).set(\n",
    "    xlabel=\"Предсказанные значения\",\n",
    "    ylabel=\"Остатки\",\n",
    "    title=\"The title\")\n",
    "sns.lineplot(x=y_pred, y=0, dashes=(5,2))"
   ]
  },
  {
   "cell_type": "code",
   "execution_count": 26,
   "id": "c079e34a-3563-451a-af90-75152cbcfe85",
   "metadata": {},
   "outputs": [
    {
     "data": {
      "text/plain": [
       "<Axes: ylabel='Count'>"
      ]
     },
     "execution_count": 26,
     "metadata": {},
     "output_type": "execute_result"
    },
    {
     "data": {
      "image/png": "[encoded data removed]",
      "text/plain": [
       "<Figure size 640x480 with 1 Axes>"
      ]
     },
     "metadata": {},
     "output_type": "display_data"
    }
   ],
   "source": [
    "# Строим распределение остатков, оно близко к нормальному\n",
    "sns.histplot(residual)"
   ]
  },
  {
   "cell_type": "code",
   "execution_count": 27,
   "id": "94f9c9de-33ce-47f1-893a-056619eec25c",
   "metadata": {},
   "outputs": [
    {
     "data": {
      "text/plain": [
       "[[<matplotlib.axis.YTick at 0x25ba2f803d0>,\n",
       "  <matplotlib.axis.YTick at 0x25ba2f72ed0>,\n",
       "  <matplotlib.axis.YTick at 0x25ba2fea110>,\n",
       "  <matplotlib.axis.YTick at 0x25ba2ff2310>,\n",
       "  <matplotlib.axis.YTick at 0x25ba3000e50>,\n",
       "  <matplotlib.axis.YTick at 0x25ba3002e90>,\n",
       "  <matplotlib.axis.YTick at 0x25ba3009010>,\n",
       "  <matplotlib.axis.YTick at 0x25ba2f80250>,\n",
       "  <matplotlib.axis.YTick at 0x25ba300ce10>,\n",
       "  <matplotlib.axis.YTick at 0x25ba300c390>,\n",
       "  <matplotlib.axis.YTick at 0x25ba300f5d0>,\n",
       "  <matplotlib.axis.YTick at 0x25ba3015750>,\n",
       "  <matplotlib.axis.YTick at 0x25ba3017990>,\n",
       "  <matplotlib.axis.YTick at 0x25ba3019b10>,\n",
       "  <matplotlib.axis.YTick at 0x25ba3002410>,\n",
       "  <matplotlib.axis.YTick at 0x25ba2eeb210>,\n",
       "  <matplotlib.axis.YTick at 0x25ba301b490>,\n",
       "  <matplotlib.axis.YTick at 0x25ba30216d0>,\n",
       "  <matplotlib.axis.YTick at 0x25ba3023790>,\n",
       "  <matplotlib.axis.YTick at 0x25ba302d8d0>,\n",
       "  <matplotlib.axis.YTick at 0x25ba30144d0>]]"
      ]
     },
     "execution_count": 27,
     "metadata": {},
     "output_type": "execute_result"
    },
    {
     "data": {
      "image/png": "[encoded data removed]",
      "text/plain": [
       "<Figure size 1200x1200 with 1 Axes>"
      ]
     },
     "metadata": {},
     "output_type": "display_data"
    }
   ],
   "source": [
    "# Строим коэффициент корреляции\n",
    "plt.figure(figsize=(12,12))\n",
    "sns.barplot(x= multicorr['feature'],y=multicorr[\"Pearson's R\"])\\\n",
    "    .set(yticks=[i/10 for i in range(-10,11)])"
   ]
  },
  {
   "cell_type": "code",
   "execution_count": 36,
   "id": "9332b673-64e6-43e6-81f4-e6dfc107dbd6",
   "metadata": {},
   "outputs": [],
   "source": [
    "#Отрицательное значение соответствует обратной корреляции. Сфокусируемся на модуле\n",
    "#По шкале Чеддока все значения в пределах 0.1-0.3 соответствуют слабой корелляции, а для признаков\n",
    "#у которых меньше 0.1, практически отсутствует"
   ]
  },
  {
   "cell_type": "code",
   "execution_count": null,
   "id": "f9925fb4-4cbd-436c-a6bc-7af3566693fd",
   "metadata": {},
   "outputs": [],
   "source": []
  },
  {
   "cell_type": "code",
   "execution_count": null,
   "id": "26b7e14f-1abb-4edc-a28c-9199db9e345b",
   "metadata": {},
   "outputs": [],
   "source": []
  },
  {
   "cell_type": "code",
   "execution_count": null,
   "id": "fb42e84b-1050-4823-baad-b5958c3964b8",
   "metadata": {},
   "outputs": [],
   "source": []
  }
 ],
 "metadata": {
  "kernelspec": {
   "display_name": "Python 3 (ipykernel)",
   "language": "python",
   "name": "python3"
  },
  "language_info": {
   "codemirror_mode": {
    "name": "ipython",
    "version": 3
   },
   "file_extension": ".py",
   "mimetype": "text/x-python",
   "name": "python",
   "nbconvert_exporter": "python",
   "pygments_lexer": "ipython3",
   "version": "3.11.7"
  }
 },
 "nbformat": 4,
 "nbformat_minor": 5
}
